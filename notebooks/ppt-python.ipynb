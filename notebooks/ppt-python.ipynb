{
 "cells": [
  {
   "cell_type": "code",
   "execution_count": 2,
   "metadata": {},
   "outputs": [],
   "source": [
    "# ! pip install python-pptx"
   ]
  },
  {
   "cell_type": "code",
   "execution_count": 12,
   "metadata": {},
   "outputs": [],
   "source": [
    "from pptx import Presentation\n",
    "\n",
    "prs = Presentation()\n",
    "title_slide_layout = prs.slide_layouts[0]\n",
    "slide = prs.slides.add_slide(title_slide_layout)\n",
    "title = slide.shapes.title\n",
    "subtitle = slide.placeholders[1]\n",
    "\n",
    "title.text = \"Hello, World!\"\n",
    "subtitle.text = \"python-pptx was here!\"\n"
   ]
  },
  {
   "cell_type": "code",
   "execution_count": 13,
   "metadata": {},
   "outputs": [],
   "source": [
    "bullet_slide_layout = prs.slide_layouts[1]\n",
    "\n",
    "slide = prs.slides.add_slide(bullet_slide_layout)\n",
    "shapes = slide.shapes\n",
    "\n",
    "title_shape = shapes.title\n",
    "body_shape = shapes.placeholders[1]\n",
    "\n",
    "title_shape.text = 'Adding a Bullet Slide'\n",
    "\n",
    "tf = body_shape.text_frame\n",
    "tf.text = 'Find the bullet slide layout'\n",
    "\n",
    "p = tf.add_paragraph()\n",
    "p.text = 'Use _TextFrame.text for first bullet'\n",
    "p.level = 1\n",
    "\n",
    "p = tf.add_paragraph()\n",
    "p.text = 'Use _TextFrame.add_paragraph() for subsequent bullets'\n",
    "p.level = 2\n"
   ]
  },
  {
   "cell_type": "markdown",
   "metadata": {},
   "source": [
    "## Add AutoShape"
   ]
  },
  {
   "cell_type": "code",
   "execution_count": 14,
   "metadata": {},
   "outputs": [],
   "source": [
    "# contd \n",
    "\n",
    "from pptx.enum.shapes import MSO_SHAPE\n",
    "from pptx.util import Inches\n",
    "\n",
    "title_only_slide_layout = prs.slide_layouts[5]\n",
    "slide = prs.slides.add_slide(title_only_slide_layout)\n",
    "shapes = slide.shapes\n",
    "\n",
    "shapes.title.text = 'Adding an AutoShape'\n",
    "\n",
    "left = Inches(0.93)  # 0.93\" centers this overall set of shapes\n",
    "top = Inches(3.0)\n",
    "width = Inches(1.75)\n",
    "height = Inches(1.0)\n",
    "\n",
    "shape = shapes.add_shape(MSO_SHAPE.PENTAGON, left, top, width, height)\n",
    "shape.text = 'Step 1'\n",
    "\n",
    "left = left + width - Inches(0.4)\n",
    "width = Inches(2.0)  # chevrons need more width for visual balance\n",
    "\n",
    "for n in range(2, 6):\n",
    "    shape = shapes.add_shape(MSO_SHAPE.CHEVRON, left, top, width, height)\n",
    "    shape.text = 'Step %d' % n\n",
    "    left = left + width - Inches(0.4)"
   ]
  },
  {
   "cell_type": "markdown",
   "metadata": {},
   "source": [
    "## Add Table"
   ]
  },
  {
   "cell_type": "code",
   "execution_count": 15,
   "metadata": {},
   "outputs": [],
   "source": [
    "title_only_slide_layout = prs.slide_layouts[5]\n",
    "slide = prs.slides.add_slide(title_only_slide_layout)\n",
    "shapes = slide.shapes\n",
    "\n",
    "shapes.title.text = 'Adding a Table'\n",
    "\n",
    "rows = cols = 2\n",
    "left = top = Inches(2.0)\n",
    "width = Inches(6.0)\n",
    "height = Inches(0.8)\n",
    "\n",
    "table = shapes.add_table(rows, cols, left, top, width, height).table\n",
    "\n",
    "# set column widths\n",
    "table.columns[0].width = Inches(2.0)\n",
    "table.columns[1].width = Inches(4.0)\n",
    "\n",
    "# write column headings\n",
    "table.cell(0, 0).text = 'Foo'\n",
    "table.cell(0, 1).text = 'Bar'\n",
    "\n",
    "# write body cells\n",
    "table.cell(1, 0).text = 'Baz'\n",
    "table.cell(1, 1).text = 'Qux'"
   ]
  },
  {
   "cell_type": "code",
   "execution_count": 16,
   "metadata": {},
   "outputs": [],
   "source": [
    "prs.save('test.pptx')"
   ]
  },
  {
   "cell_type": "markdown",
   "metadata": {},
   "source": [
    "## Reading a Powerpoint "
   ]
  },
  {
   "cell_type": "code",
   "execution_count": 21,
   "metadata": {},
   "outputs": [],
   "source": [
    "from pptx import Presentation\n",
    "\n",
    "path_to_presentation = u\"./test.pptx\"\n",
    "\n",
    "prs = Presentation(path_to_presentation)\n",
    "\n",
    "# text_runs will be populated with a list of strings,\n",
    "# one for each text run in presentation\n",
    "text_runs = []\n",
    "\n",
    "for slide in prs.slides:\n",
    "    for shape in slide.shapes:\n",
    "        if not shape.has_text_frame:\n",
    "            continue\n",
    "        for paragraph in shape.text_frame.paragraphs:\n",
    "            for run in paragraph.runs:\n",
    "                text_runs.append(run.text)"
   ]
  },
  {
   "cell_type": "code",
   "execution_count": 22,
   "metadata": {},
   "outputs": [
    {
     "data": {
      "text/plain": [
       "['Hello, World!',\n",
       " 'python-pptx was here!',\n",
       " 'Adding a Bullet Slide',\n",
       " 'Find the bullet slide layout',\n",
       " 'Use _TextFrame.text for first bullet',\n",
       " 'Use _TextFrame.add_paragraph() for subsequent bullets',\n",
       " 'Adding an AutoShape',\n",
       " 'Step 1',\n",
       " 'Step 2',\n",
       " 'Step 3',\n",
       " 'Step 4',\n",
       " 'Step 5',\n",
       " 'Adding a Table']"
      ]
     },
     "execution_count": 22,
     "metadata": {},
     "output_type": "execute_result"
    }
   ],
   "source": [
    "text_runs"
   ]
  },
  {
   "cell_type": "code",
   "execution_count": null,
   "metadata": {},
   "outputs": [],
   "source": []
  }
 ],
 "metadata": {
  "kernelspec": {
   "display_name": "venvPy3",
   "language": "python",
   "name": "venvpy3"
  },
  "language_info": {
   "codemirror_mode": {
    "name": "ipython",
    "version": 3
   },
   "file_extension": ".py",
   "mimetype": "text/x-python",
   "name": "python",
   "nbconvert_exporter": "python",
   "pygments_lexer": "ipython3",
   "version": "3.5.2"
  }
 },
 "nbformat": 4,
 "nbformat_minor": 2
}
