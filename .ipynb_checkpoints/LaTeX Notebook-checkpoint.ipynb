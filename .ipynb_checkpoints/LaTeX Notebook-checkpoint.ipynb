{
 "cells": [
  {
   "cell_type": "markdown",
   "metadata": {},
   "source": [
    "# LaTex content\n",
    "For example, given this model ($y=x$), if $x=1$ then the probability for $y=1.1$ is:\n",
    "$$\n",
    "f(1.1) = \\frac{1}{\\sqrt{2 \\pi \\sigma^2}} exp\\bigg(-\\frac{0.1^2}{2\\sigma^2}\\bigg),\n",
    "$$"
   ]
  },
  {
   "cell_type": "raw",
   "metadata": {},
   "source": [
    "Code for above: \n",
    "\n",
    "For example, given this model ($y=x$), if $x=1$ then the probability for $y=1.1$ is:\n",
    "$$\n",
    "f(1.1) = \\frac{1}{\\sqrt{2 \\pi \\sigma^2}} exp\\bigg(-\\frac{0.1^2}{2\\sigma^2}\\bigg),\n",
    "$$"
   ]
  },
  {
   "cell_type": "markdown",
   "metadata": {},
   "source": [
    "\n",
    "$$\n",
    "\\frac{dy}{dx} = \\delta exp \\bigg -\\frac{\\mu^2}{\\sigma^2} \\bigg\n",
    "$$\n"
   ]
  },
  {
   "cell_type": "code",
   "execution_count": null,
   "metadata": {},
   "outputs": [],
   "source": []
  }
 ],
 "metadata": {
  "kernelspec": {
   "display_name": "venv-Py3",
   "language": "python",
   "name": "venv-py3"
  },
  "language_info": {
   "codemirror_mode": {
    "name": "ipython",
    "version": 3
   },
   "file_extension": ".py",
   "mimetype": "text/x-python",
   "name": "python",
   "nbconvert_exporter": "python",
   "pygments_lexer": "ipython3",
   "version": "3.5.2"
  }
 },
 "nbformat": 4,
 "nbformat_minor": 2
}
