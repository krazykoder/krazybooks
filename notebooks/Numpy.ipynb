{
 "cells": [
  {
   "cell_type": "code",
   "execution_count": 1,
   "metadata": {},
   "outputs": [],
   "source": [
    "%matplotlib inline\n",
    "import matplotlib.pyplot as plt\n",
    "import numpy as np"
   ]
  },
  {
   "cell_type": "code",
   "execution_count": 2,
   "metadata": {},
   "outputs": [
    {
     "data": {
      "text/plain": [
       "(0.029561183272798934, 0.9654192937522813)"
      ]
     },
     "execution_count": 2,
     "metadata": {},
     "output_type": "execute_result"
    }
   ],
   "source": [
    "X = np.random.normal(0, 1, 1000)\n",
    "X.mean(), X.std()"
   ]
  },
  {
   "cell_type": "code",
   "execution_count": 3,
   "metadata": {},
   "outputs": [
    {
     "data": {
      "text/plain": [
       "(array([  2.,   5.,  37., 107., 229., 259., 194., 115.,  39.,  13.]),\n",
       " array([-3.4933061 , -2.85282152, -2.21233693, -1.57185235, -0.93136776,\n",
       "        -0.29088318,  0.34960141,  0.990086  ,  1.63057058,  2.27105517,\n",
       "         2.91153975]),\n",
       " <a list of 10 Patch objects>)"
      ]
     },
     "execution_count": 3,
     "metadata": {},
     "output_type": "execute_result"
    },
    {
     "data": {
      "image/png": "[encoded data removed]",
      "text/plain": [
       "<Figure size 432x288 with 1 Axes>"
      ]
     },
     "metadata": {
      "needs_background": "light"
     },
     "output_type": "display_data"
    }
   ],
   "source": [
    "plt.hist(X)"
   ]
  },
  {
   "cell_type": "code",
   "execution_count": 8,
   "metadata": {},
   "outputs": [
    {
     "data": {
      "text/plain": [
       "4"
      ]
     },
     "execution_count": 8,
     "metadata": {},
     "output_type": "execute_result"
    }
   ],
   "source": [
    "import multiprocessing\n",
    "multiprocessing.cpu_count()"
   ]
  },
  {
   "cell_type": "markdown",
   "metadata": {},
   "source": [
    "# Some inputs on Parallell processing"
   ]
  },
  {
   "cell_type": "code",
   "execution_count": 9,
   "metadata": {},
   "outputs": [],
   "source": [
    "from scipy.integrate import quad\n",
    "from numpy import exp"
   ]
  },
  {
   "cell_type": "code",
   "execution_count": 11,
   "metadata": {},
   "outputs": [
    {
     "name": "stdout",
     "output_type": "stream",
     "text": [
      "integrand(1) = 0.36787944117144233\n"
     ]
    }
   ],
   "source": [
    "def integrand(x):\n",
    "    return exp(-(x)**2)\n",
    "print (\"integrand(1) =\", integrand(1))"
   ]
  },
  {
   "cell_type": "code",
   "execution_count": 12,
   "metadata": {},
   "outputs": [
    {
     "name": "stdout",
     "output_type": "stream",
     "text": [
      "integral(1) = 0.7468241328124271\n"
     ]
    }
   ],
   "source": [
    "def integral(x):\n",
    "    return quad(integrand,0,x)[0]\n",
    "print (\"integral(1) =\", integral(1))"
   ]
  },
  {
   "cell_type": "markdown",
   "metadata": {},
   "source": [
    "Our benchmark will be the calculation of the integral on the segments [0,n] for n∈0,1,2,...,N"
   ]
  },
  {
   "cell_type": "code",
   "execution_count": 13,
   "metadata": {},
   "outputs": [
    {
     "name": "stdout",
     "output_type": "stream",
     "text": [
      "549 ns ± 85.7 ns per loop (mean ± std. dev. of 7 runs, 10 loops each)\n"
     ]
    }
   ],
   "source": [
    "N = 1000\n",
    "%timeit -n 10 map(integral, range(N))"
   ]
  },
  {
   "cell_type": "markdown",
   "metadata": {},
   "source": [
    "# Binomial Test "
   ]
  },
  {
   "cell_type": "code",
   "execution_count": 18,
   "metadata": {},
   "outputs": [],
   "source": [
    "# ! pip install statsmodels"
   ]
  },
  {
   "cell_type": "code",
   "execution_count": 19,
   "metadata": {},
   "outputs": [],
   "source": [
    "%matplotlib inline\n",
    "import numpy as np\n",
    "import matplotlib.pyplot as plt\n",
    "import seaborn as sns\n",
    "from scipy import stats\n",
    "from statsmodels.stats import proportion\n",
    "sns.set_style('ticks')"
   ]
  },
  {
   "cell_type": "code",
   "execution_count": 20,
   "metadata": {},
   "outputs": [
    {
     "data": {
      "image/png": "[encoded data removed]",
      "text/plain": [
       "<Figure size 432x288 with 1 Axes>"
      ]
     },
     "metadata": {},
     "output_type": "display_data"
    }
   ],
   "source": [
    "p = 0.45 # probability for head\n",
    "n = 100\n",
    "heads = (np.random.random(n) < p).sum()\n",
    "\n",
    "fig, ax = plt.subplots()\n",
    "ax.bar([0, 1], [heads, n-heads])\n",
    "ax.set_xticks((0,1))\n",
    "ax.set_xticklabels(('Heads', 'Tails'))\n",
    "ax.set_ylabel('Frequency')\n",
    "sns.despine()"
   ]
  },
  {
   "cell_type": "code",
   "execution_count": 21,
   "metadata": {},
   "outputs": [
    {
     "name": "stdout",
     "output_type": "stream",
     "text": [
      "P-value for two-sided biomial test for a fair coin: 0.089\n"
     ]
    }
   ],
   "source": [
    "print(\"P-value for two-sided biomial test for a fair coin: {:.2g}\".format(\n",
    "    proportion.binom_test(heads, n, prop=0.5)\n",
    "))"
   ]
  },
  {
   "cell_type": "code",
   "execution_count": 22,
   "metadata": {},
   "outputs": [
    {
     "data": {
      "text/plain": [
       "(39.0, 61.0, 41)"
      ]
     },
     "execution_count": 22,
     "metadata": {},
     "output_type": "execute_result"
    }
   ],
   "source": [
    "min_heads, max_heads = proportion.binom_test_reject_interval(0.5, n, alpha=0.05)\n",
    "min_heads, max_heads, heads"
   ]
  },
  {
   "cell_type": "code",
   "execution_count": 37,
   "metadata": {},
   "outputs": [
    {
     "data": {
      "image/png": "[encoded data removed]",
      "text/plain": [
       "<Figure size 432x288 with 1 Axes>"
      ]
     },
     "metadata": {},
     "output_type": "display_data"
    }
   ],
   "source": [
    "rv = stats.binom(n, 0.5)\n",
    "max_freq = rv.pmf(n//2)\n",
    "fig, ax = plt.subplots()\n",
    "ax.fill_between([min_heads, max_heads], [max_freq*1.1]*2, alpha=0.2)\n",
    "ax.plot(rv.pmf(np.arange(0, n+1)))\n",
    "ax.axvline(heads, color='k', ls='--')\n",
    "ax.annotate('rejection region', (0.4, 1.01), xycoords='axes fraction')\n",
    "ax.annotate('observed', \n",
    "            (heads, 0.05), xytext=(-80, 0), \n",
    "            xycoords='data', textcoords='offset points',\n",
    "            arrowprops=dict(facecolor='red', shrink=0.05),\n",
    ")\n",
    "ax.set(\n",
    "    ylim=(0, max_freq*1.1),\n",
    "    xlabel='Heads',\n",
    "    ylabel='Probability'\n",
    ")\n",
    "sns.despine()"
   ]
  },
  {
   "cell_type": "code",
   "execution_count": null,
   "metadata": {},
   "outputs": [],
   "source": []
  }
 ],
 "metadata": {
  "kernelspec": {
   "display_name": "venv",
   "language": "python",
   "name": "venv"
  },
  "language_info": {
   "codemirror_mode": {
    "name": "ipython",
    "version": 3
   },
   "file_extension": ".py",
   "mimetype": "text/x-python",
   "name": "python",
   "nbconvert_exporter": "python",
   "pygments_lexer": "ipython3",
   "version": "3.5.2"
  }
 },
 "nbformat": 4,
 "nbformat_minor": 2
}
