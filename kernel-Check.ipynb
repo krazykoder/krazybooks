{
 "cells": [
  {
   "cell_type": "code",
   "execution_count": 1,
   "metadata": {},
   "outputs": [],
   "source": [
    "# ! pip install scandir"
   ]
  },
  {
   "cell_type": "code",
   "execution_count": 2,
   "metadata": {},
   "outputs": [
    {
     "name": "stdout",
     "output_type": "stream",
     "text": [
      "3.5.2\n"
     ]
    }
   ],
   "source": [
    "import platform \n",
    "print(platform.python_version())"
   ]
  },
  {
   "cell_type": "code",
   "execution_count": 3,
   "metadata": {},
   "outputs": [
    {
     "name": "stdout",
     "output_type": "stream",
     "text": [
      "Sat Nov  3 19:52:34 2018       \r\n",
      "+-----------------------------------------------------------------------------+\r\n",
      "| NVIDIA-SMI 390.67                 Driver Version: 390.67                    |\r\n",
      "|-------------------------------+----------------------+----------------------+\r\n",
      "| GPU  Name        Persistence-M| Bus-Id        Disp.A | Volatile Uncorr. ECC |\r\n",
      "| Fan  Temp  Perf  Pwr:Usage/Cap|         Memory-Usage | GPU-Util  Compute M. |\r\n",
      "|===============================+======================+======================|\r\n",
      "|   0  GeForce GT 610      Off  | 00000000:02:00.0 N/A |                  N/A |\r\n",
      "| 40%   40C    P8    N/A /  N/A |    697MiB /  1984MiB |     N/A      Default |\r\n",
      "+-------------------------------+----------------------+----------------------+\r\n",
      "|   1  GeForce GTX 1070    Off  | 00000000:03:00.0 Off |                  N/A |\r\n",
      "| 27%   36C    P8    10W / 151W |      2MiB /  8119MiB |      0%      Default |\r\n",
      "+-------------------------------+----------------------+----------------------+\r\n",
      "                                                                               \r\n",
      "+-----------------------------------------------------------------------------+\r\n",
      "| Processes:                                                       GPU Memory |\r\n",
      "|  GPU       PID   Type   Process name                             Usage      |\r\n",
      "|=============================================================================|\r\n",
      "|    0                    Not Supported                                       |\r\n",
      "+-----------------------------------------------------------------------------+\r\n"
     ]
    }
   ],
   "source": [
    "! nvidia-smi"
   ]
  },
  {
   "cell_type": "code",
   "execution_count": 5,
   "metadata": {
    "scrolled": true
   },
   "outputs": [
    {
     "name": "stdout",
     "output_type": "stream",
     "text": [
      "              total        used        free      shared  buff/cache   available\r\n",
      "Mem:            23G        3.8G        7.5G        301M         12G         18G\r\n",
      "Swap:           11G          0B         11G\r\n"
     ]
    }
   ],
   "source": [
    "! free -h"
   ]
  },
  {
   "cell_type": "code",
   "execution_count": 6,
   "metadata": {},
   "outputs": [
    {
     "name": "stdout",
     "output_type": "stream",
     "text": [
      "\u001b[?1l\u001b>04\u001b[23;25H\u001b[36m4341M  216M 39\u001b[m\u001b[m336 \u001b[23;51H0.9  1:37.74 \u001b[32m/home/towshif/.vs\u001b[1;1H\u001b[m\u001b[m27H\u001b[36m82M  234M 92\u001b[m\u001b[m96\u001b[21;51H1.0 14:09.30 /opt/google/chrom\u001b[22;2H2951\u001b[22;25H\u001b[36m1877M  318M 94\u001b[m\u001b[m480\u001b[22;53H3 51:03.65 compiz\u001b[K16;53H6 10:40.65 \u001b[32m/opt/google/chrom\u001b[17;1H\u001b[m\u001b[m 9763\u001b[17;25H\u001b[36m1087M  337M  156M \u001b[m\u001b[mS  1.3  1.4 22:25.38 /opt/google/chrom\u001b[18;1H23881\u001b[18;25H\u001b[36m4341M  216M 39\u001b[m\u001b[m336 S  1.3  0.9  4:44.32 /home/towshif/.vs\u001b[19;4H49\u001b[19;26H\u001b[36m370M  472M  224\u001b[19;51H\u001b[m\u001b[m2.0  3:25.18 \u001b[32m/opt/google/chrom\u001b[20;1H\u001b[m\u001b[m 5163\u001b[20;25H\u001b[36m1544M  324M  139M \u001b[20;51H\u001b[m\u001b[m1.3 33:10.86 \u001b[32m/opt/google/chrom\u001b[21;1H\u001b[m\u001b[m12580\u001b[21;27H\u001b[36m94M  138M 70\u001b[m\u001b[m02\u001b[21;51H0.6  5:46.72 \u001b[32m/opt/google/chrom\u001b[22;1H\u001b[m\u001b[m 5187\u001b[22;25H\u001b[36m 782M  234M 92\u001b[m\u001b[m964 \u001b[22;53H0 14:09.29 /opt/google/chrom\u001b[23;1H10778\u001b[23;25H\u001b[36m1087M  337M  156M \u001b[23;53H\u001b[m\u001b[m4  6:43.71\u001b[H   99M 62\u001b[m\u001b[m432 S  0.0  0.4  0:05.65 \u001b[32m/opt/google/chrom\u001b[17;3H\u001b[m\u001b[m812 towshif    20   0 \u001b[36m 736M   99M 62\u001b[m\u001b[m432 S  0.0  0.4  0:04.81 \u001b[32m/opt/google/chrom\u001b[18;3H\u001b[m\u001b[m813 towshif    20   0 \u001b[36m 736M   99M 62\u001b[m\u001b[m432 S  0.0  0.4  0:04.40 \u001b[32m/opt/google/chrom\u001b[19;3H\u001b[m\u001b[m814 towshif    20   0 \u001b[36m 736M   99M 62\u001b[m\u001b[m432 S  0.0  0.4  0:02.67 \u001b[32m/opt/google/chrom\u001b[20;3H\u001b[m\u001b[m815 towshif    20   0 \u001b[36m 736M   99M 62\u001b[m\u001b[m432 S  0.0  0.4  0:01.12 \u001b[32m/opt/google/chrom\u001b[21;3H\u001b[m\u001b[m816 towshif    20   0 \u001b[36m 736M   99M 62\u001b[m\u001b[m432 S  0.0  0.4  0:19.78 \u001b[32m/opt/google/chrom\u001b[22;3H\u001b[m\u001b[m817 towshif    20   0 \u001b[36m 736M   99M 62\u001b[m\u001b[m432 S  0.0  0.4  0:00.00 \u001b[32m/opt/google/chrom\u001b[23;3H\u001b[m\u001b[m818 towshif    20   0 \u001b[36m 736M   99M 62\u001b[m\u001b[m432 S  0.0  0.4  0:00.00 \u001b[32m/opt/google/chrom\u001b[24;1H\u001b[m\u001b[mF1\u001b[30m\u001b[46mHelp  \u001b[m\u001b[mF2\u001b[30m\u001b[46mSetup \u001b[m\u001b[mF3\u001b[30m\u001b[46mSearch\u001b[m\u001b[mF4\u001b[30m\u001b[46mFilter\u001b[m\u001b[mF5\u001b[30m\u001b[46mTree  \u001b[m\u001b[mF6\u001b[30m\u001b[46mSortBy\u001b[m\u001b[mF7\u001b[30m\u001b[46mNice -\u001b[m\u001b[mF8\u001b[30m\u001b[46mNice +\u001b[m\u001b[mF9\u001b[30m\u001b[46mKill  \u001b[m\u001b[mF10\u001b[30m\u001b[46mQui\u001b[4ht\u001b[4l\u001b[H\u001b[m\u001b[m\u001b[2;8H\u001b[31m|\u001b[30m\u001b[1m                        5.3%\u001b[2;54H\u001b[32m30\u001b[6C1\u001b[3;7H\u001b[m\u001b[32m||\u001b[31m|\u001b[3;33H\u001b[30m\u001b[1m4.5\u001b[4;7H\u001b[m\u001b[32m|\u001b[31m|\u001b[4;33H\u001b[30m\u001b[1m3.3\u001b[4;64H\u001b[36m3\u001b[5;7H\u001b[m\u001b[32m|\u001b[5;33H\u001b[30m\u001b[1m2.6\u001b[2;33H\u001b[30m\u001b[1m4.6\u001b[2;54H\u001b[32m29\u001b[3;8H\u001b[30m  \u001b[3;33H2.6\u001b[19\u001b[4;64H\u001b[36m5\u001b[5;8H\u001b[m\u001b[32m|\u001b[31m|\u001b[5;33H\u001b[30m\u001b[1m6.5\u001b[10;46H\u001b[m\u001b[30m\u001b[46m4.0\u001b[11;46H\u001b[m\u001b[m4.0\u001b[11;62H9\u001b[12;46H3.3\u001b[12;61H41\u001b[13;3H486\u001b[13;25H\u001b[36m26\u001b[m\u001b[m540 \u001b[36m 4\u001b[m\u001b[m384 \u001b[36m 3\u001b[m\u001b[m112 \u001b[32mR \u001b[13;53H\u001b[m\u001b[m0\u001b[7C18 htop\u001b[K\u001b[2;8H\u001b[32m|\u001b[31m|\u001b[2;33H\u001b[30m\u001b[1m5.9\u001b[3;8H\u001b[m\u001b[31m|\u001b[3;35H\u001b[30m\u001b[1m0\u001b[3;58H\u001b[m2\u001b[4;8H\u001b[30m \u001b[4;33H1.3\u001b[4;64H\u001b[36m6\u001b[5;33H\u001b[30m5.2\u001b[10;46H\u001b[m\u001b[30m\u001b[46m3.9\u001b[11;46H\u001b[m\u001b[m2.6\u001b[11;59H1.03\u001b[12;46H2.6\u001b[12;62H5\u001b[13;48H0\u001b[13;61H21\u001b[2;8H\u001b[31m|\u001b[30m\u001b[1m \u001b[2;33H3.4\u001b[3;33H4.5\u001b[4;8H\u001b[m\u001b[31m|\u001b[4;33H\u001b[30m\u001b[1m5.2\u001b[4;64H\u001b[36m8\u001b[5;9H\u001b[30m \u001b[5;33H3.9\u001b[10;46H\u001b[m\u001b[30m\u001b[46m5.2\u001b[11;46H\u001b[m\u001b[m3.9\u001b[11;62H9\u001b[12;46H3.3\u001b[12;61H50\u001b[13;3H295\u001b[13;25H\u001b[36m 598M 46\u001b[m\u001b[m828 \u001b[36m12\u001b[m\u001b[m956 S  2.6  0.2\u001b[7C17 \u001b[32m/home/towshif/ven\u001b[14;1H\u001b[m\u001b[m 5163\u001b[14;25H\u001b[36m1542M  324M  139M \u001b[m\u001b[mS  2.6  1.3 33:10.74 \u001b[32m/opt/google/chrom\u001b[15;1H\u001b[m\u001b[m21486\u001b[15;25H\u001b[36m26\u001b[m\u001b[m540 \u001b[36m 4\u001b[m\u001b[m384 \u001b[36m 3\u001b[m\u001b[m112 \u001b[32mR \u001b[6C\u001b[m\u001b[m0.0  0:00.24 htop\u001b[K\u001b[2;33H\u001b[30m\u001b[1m5.3\u001b[2;54H\u001b[32m30\u001b[3;8H\u001b[30m \u001b[3;33H2.6\u001b[4;33H3.3\u001b[4;64H\u001b[36m9\u001b[5;8H\u001b[m\u001b[31m|\u001b[5;33H\u001b[30m\u001b[1m2.0\u001b[10;46H\u001b[m\u001b[30m\u001b[46m3.9\u001b[1\u001b[m\u001b[m3\u001b[11;61H14\u001b[15\u001b[21\u001b[2;62H\u001b[32m\u001b[1m2\u001b[3;35H\u001b[30m0\u001b[4;8H\u001b[m\u001b[32m|\u001b[4;35H\u001b[30m\u001b[1m9\u001b[4;63H\u001b[36m11\u001b[5;8H\u001b[m\u001b[32m|\u001b[31m|\u001b[5;33H\u001b[30m\u001b[1m5.1\u001b[10;43H\u001b[m\u001b[30m\u001b[46mR\u001b[2;8H\u001b[32m|||||\u001b[31m|\u001b[2;32H\u001b[30m\u001b[1m20\u001b[2;50H\u001b[36m5\u001b[m\u001b[36m, \u001b[32m\u001b[1m844\u001b[6C1\u001b[3;8H\u001b[m\u001b[32m||\u001b[31m|\u001b[3;32H\u001b[30m\u001b[1m10.9\u001b[3;55H\u001b[m1.33 \u001b[36m0.44 \u001b[m\u001b[36m0.26\u001b[4;9H\u001b[31m|\u001b[4;33H\u001b[30m\u001b[1m7.1\u001b[4;64H\u001b[36m3\u001b[5;9H\u001b[m\u001b[32m||\u001b[31m|\u001b[5;32H\u001b[30m\u001b[1m12.0\u001b[6;29H2\u001b[\u001b[m\u001b[30m\u001b[46m4\u001b[10;43HS 10.4\u001b[2;9H\u001b[31m|\u001b[30m\u001b[1m    \u001b[2;32H 5.9\u001b[2;55H\u001b[32m3\u001b[3;8H\u001b[m\u001b[31m|\u001b[30m\u001b[1m  \u001b[3;32H 2.6\u001b[4;8H  \u001b[4;33H2.0\u001b[4;64H\u001b[36m4\u001b[5;8H\u001b[30m    \u001b[5;32H 1.3\u001b[10;45H\u001b[m\u001b[30m\u001b[46m 4.0\u001b[2;8H\u001b[31m|\u001b[30m\u001b[1m \u001b[2;33H3.3\u001b[3;8H \u001b[1\u001b[m\u001b[31m|\u001b[4;33H\u001b[30m\u001b[1m4.6\u001b[4;64H\u001b[36m6\u001b[5;8H\u001b[m\u001b[31m|\u001b[5;33H\u001b[30m\u001b[1m2.6\u001b[10;46H\u001b[m\u001b[30m\u001b[46m5.3\u001b[11;46H\u001b[m\u001b[m4.0\u001b[11;61H34\u001b[12;46H3.3\u001b[12;61H74\u001b[13;3H295\u001b[13;25H\u001b[36m 598M 46\u001b[m\u001b[m828 \u001b[36m12\u001b[m\u001b[m956 S  2.6  0.2\u001b[13;62H4 \u001b[32m/home/towshif/ven\u001b[14;1H\u001b[m\u001b[m21486\u001b[14;25H\u001b[36m26\u001b[m\u001b[m540 \u001b[36m 4\u001b[m\u001b[m384 \u001b[36m 3\u001b[m\u001b[m112 \u001b[32mR \u001b[6C\u001b[m\u001b[m0.0  0:00.41 htop\u001b[K\u001b[?1000l\u001b[24;1H\u001b[2J\u001b[?47l\u001b8\n"
     ]
    }
   ],
   "source": []
  },
  {
   "cell_type": "code",
   "execution_count": 1,
   "metadata": {},
   "outputs": [
    {
     "name": "stderr",
     "output_type": "stream",
     "text": [
      "/home/towshif/venv/lib/python3.5/importlib/_bootstrap.py:222: RuntimeWarning: numpy.dtype size changed, may indicate binary incompatibility. Expected 96, got 88\n",
      "  return f(*args, **kwds)\n",
      "/home/towshif/venv/lib/python3.5/importlib/_bootstrap.py:222: RuntimeWarning: numpy.dtype size changed, may indicate binary incompatibility. Expected 96, got 88\n",
      "  return f(*args, **kwds)\n",
      "/home/towshif/venv/lib/python3.5/importlib/_bootstrap.py:222: RuntimeWarning: numpy.dtype size changed, may indicate binary incompatibility. Expected 96, got 88\n",
      "  return f(*args, **kwds)\n",
      "/home/towshif/venv/lib/python3.5/importlib/_bootstrap.py:222: RuntimeWarning: numpy.dtype size changed, may indicate binary incompatibility. Expected 96, got 88\n",
      "  return f(*args, **kwds)\n"
     ]
    },
    {
     "name": "stdout",
     "output_type": "stream",
     "text": [
      "[name: \"/device:CPU:0\"\n",
      "device_type: \"CPU\"\n",
      "memory_limit: 268435456\n",
      "locality {\n",
      "}\n",
      "incarnation: 11517828958889000519\n",
      ", name: \"/device:GPU:0\"\n",
      "device_type: \"GPU\"\n",
      "memory_limit: 19464192\n",
      "locality {\n",
      "  bus_id: 1\n",
      "  links {\n",
      "  }\n",
      "}\n",
      "incarnation: 5574448193613431166\n",
      "physical_device_desc: \"device: 0, name: GeForce GTX 1070, pci bus id: 0000:03:00.0, compute capability: 6.1\"\n",
      "]\n",
      "1.11.0\n"
     ]
    }
   ],
   "source": [
    "import tensorflow as tf\n",
    "from tensorflow.python.client import device_lib\n",
    "print(device_lib.list_local_devices())\n",
    "print (tf.__version__)"
   ]
  },
  {
   "cell_type": "code",
   "execution_count": null,
   "metadata": {},
   "outputs": [],
   "source": []
  },
  {
   "cell_type": "code",
   "execution_count": null,
   "metadata": {},
   "outputs": [],
   "source": []
  }
 ],
 "metadata": {
  "kernelspec": {
   "display_name": "venv-Py3",
   "language": "python",
   "name": "venv-py3"
  },
  "language_info": {
   "codemirror_mode": {
    "name": "ipython",
    "version": 3
   },
   "file_extension": ".py",
   "mimetype": "text/x-python",
   "name": "python",
   "nbconvert_exporter": "python",
   "pygments_lexer": "ipython3",
   "version": "3.5.2"
  }
 },
 "nbformat": 4,
 "nbformat_minor": 2
}
