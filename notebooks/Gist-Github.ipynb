{
 "cells": [
  {
   "cell_type": "code",
   "execution_count": 1,
   "metadata": {},
   "outputs": [
    {
     "name": "stdout",
     "output_type": "stream",
     "text": [
      "Python 3.5.2\n",
      "pip 18.1 from /home/fermi/venv/lib/python3.5/site-packages/pip (python 3.5)\n",
      "/home/fermi/venv/bin/python\n",
      "/home/fermi/venv/bin/pip\n"
     ]
    }
   ],
   "source": [
    "! python --version \n",
    "! pip --version \n",
    "! which python\n",
    "! which pip "
   ]
  },
  {
   "cell_type": "markdown",
   "metadata": {},
   "source": [
    "## Get `raw` link from `gist-url`"
   ]
  },
  {
   "cell_type": "code",
   "execution_count": 49,
   "metadata": {},
   "outputs": [],
   "source": [
    "import requests\n",
    "from bs4 import BeautifulSoup\n",
    "import urllib.parse as urlparse"
   ]
  },
  {
   "cell_type": "code",
   "execution_count": 52,
   "metadata": {},
   "outputs": [],
   "source": [
    "# url = 'https://gist.github.com/towshif/9aec83abd7e5a67fbcc48b9ea445dc17'\n",
    "url = 'https://gist.github.com/towshif/bba124a507d1f7513118977c7dd591ae'\n",
    "\n",
    "# url = 'https://web.archive.org/web/20121007172955/https://www.nga.gov/collection/anZ1.htm'\n",
    "\n",
    "# Collect and parse first page\n",
    "page = requests.get(url)\n",
    "# page = requests.get('http://interactivepython.org/runestone/static/pythonds/index.html')\n",
    "\n",
    "soup = BeautifulSoup(page.text, 'html.parser')\n",
    "\n",
    "# Pull all text from the BodyText div\n",
    "list_of_links = soup.find(class_='BodyText')\n",
    "\n",
    "# Pull text from all instances of <a> tag within BodyText div\n",
    "all_list_of_links = soup.find_all('a')\n",
    "\n",
    "# artist_name_list_items"
   ]
  },
  {
   "cell_type": "code",
   "execution_count": 53,
   "metadata": {},
   "outputs": [
    {
     "name": "stdout",
     "output_type": "stream",
     "text": [
      "https://gist.github.com/towshif/bba124a507d1f7513118977c7dd591ae/raw/6a90a46b378469d7122c2e0556f6f27bf1a15ac4/bash-aliases.sh\n"
     ]
    }
   ],
   "source": [
    "for mylinks in all_list_of_links:\n",
    "    links = mylinks.get('href') #.contents[0]  #print (links)\n",
    "    try: \n",
    "        if \"raw\" in links:   \n",
    "            print(urlparse.urljoin(url, links)) # joins at last '/' in the base (1st arg).\n",
    "    except:\n",
    "        pass"
   ]
  },
  {
   "cell_type": "markdown",
   "metadata": {},
   "source": [
    "## List all public gists for a `user` @ gist repo `https://gist.github.com/[user]`"
   ]
  },
  {
   "cell_type": "code",
   "execution_count": 69,
   "metadata": {},
   "outputs": [
    {
     "name": "stdout",
     "output_type": "stream",
     "text": [
      "https://gist.github.com/towshif/bba124a507d1f7513118977c7dd591ae\n",
      "https://gist.github.com/towshif/9aec83abd7e5a67fbcc48b9ea445dc17\n"
     ]
    }
   ],
   "source": [
    "# url = 'https://gist.github.com/towshif/9aec83abd7e5a67fbcc48b9ea445dc17'\n",
    "url = 'https://gist.github.com/towshif/'\n",
    "\n",
    "# url = 'https://web.archive.org/web/20121007172955/https://www.nga.gov/collection/anZ1.htm'\n",
    "\n",
    "# Collect and parse first page\n",
    "page = requests.get(url)\n",
    "# page = requests.get('http://interactivepython.org/runestone/static/pythonds/index.html')\n",
    "\n",
    "soup = BeautifulSoup(page.text, 'html.parser')\n",
    "\n",
    "# Pull all text from the BodyText div\n",
    "# list_of_links = soup.find(class_='BodyText')\n",
    "\n",
    "# Pull text from all instances of <a> tag within BodyText div\n",
    "all_list_of_links = soup.find_all('a')\n",
    "\n",
    "# print (all_list_of_links)\n",
    "\n",
    "for mylinks in all_list_of_links:\n",
    "    links = mylinks.get('href') #.contents[0]  \n",
    "    #print (links)\n",
    "    try: \n",
    "        if url in links and '?' not in links:  # try removing '?' and check output\n",
    "            print(urlparse.urljoin(url, links)) # joins at last '/' in the base (1st arg).\n",
    "    except:\n",
    "        pass\n"
   ]
  },
  {
   "cell_type": "code",
   "execution_count": null,
   "metadata": {},
   "outputs": [],
   "source": []
  }
 ],
 "metadata": {
  "kernelspec": {
   "display_name": "venvPy3",
   "language": "python",
   "name": "venvpy3"
  },
  "language_info": {
   "codemirror_mode": {
    "name": "ipython",
    "version": 3
   },
   "file_extension": ".py",
   "mimetype": "text/x-python",
   "name": "python",
   "nbconvert_exporter": "python",
   "pygments_lexer": "ipython3",
   "version": "3.5.2"
  }
 },
 "nbformat": 4,
 "nbformat_minor": 2
}
