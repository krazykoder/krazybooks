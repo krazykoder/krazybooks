{
 "cells": [
  {
   "cell_type": "code",
   "execution_count": 1,
   "metadata": {},
   "outputs": [
    {
     "name": "stdout",
     "output_type": "stream",
     "text": [
      "Python 3.5.2\n",
      "pip 18.1 from /home/fermi/venv/lib/python3.5/site-packages/pip (python 3.5)\n",
      "/home/fermi/venv/bin/python\n",
      "/home/fermi/venv/bin/pip\n"
     ]
    }
   ],
   "source": [
    "! python --version \n",
    "! pip --version \n",
    "! which python\n",
    "! which pip "
   ]
  },
  {
   "cell_type": "code",
   "execution_count": 3,
   "metadata": {},
   "outputs": [
    {
     "name": "stdout",
     "output_type": "stream",
     "text": [
      "Requirement already satisfied: scandir in /home/fermi/venv/lib/python3.5/site-packages (1.9.0)\r\n"
     ]
    }
   ],
   "source": [
    "! pip install scandir "
   ]
  },
  {
   "cell_type": "code",
   "execution_count": 4,
   "metadata": {},
   "outputs": [
    {
     "name": "stdout",
     "output_type": "stream",
     "text": [
      "Package                       Version\r\n",
      "----------------------------- -------\r\n",
      "apturl                        0.5.2  \r\n",
      "backcall                      0.1.0  \r\n",
      "beautifulsoup4                4.4.1  \r\n",
      "bleach                        3.0.2  \r\n",
      "blinker                       1.3    \r\n",
      "Brlapi                        0.6.4  \r\n",
      "chardet                       2.3.0  \r\n",
      "checkbox-support              0.22   \r\n",
      "chrome-gnome-shell            0.0.0  \r\n",
      "command-not-found             0.3    \r\n",
      "cryptography                  1.2.3  \r\n",
      "cycler                        0.10.0 \r\n",
      "decorator                     4.3.0  \r\n",
      "defer                         1.0.6  \r\n",
      "defusedxml                    0.5.0  \r\n",
      "entrypoints                   0.2.3  \r\n",
      "feedparser                    5.1.3  \r\n",
      "guacamole                     0.9.2  \r\n",
      "html5lib                      0.999  \r\n",
      "httplib2                      0.9.1  \r\n",
      "idna                          2.0    \r\n",
      "ipykernel                     5.1.0  \r\n",
      "ipython                       7.1.1  \r\n",
      "ipython-genutils              0.2.0  \r\n",
      "ipywidgets                    7.4.2  \r\n",
      "jedi                          0.13.1 \r\n",
      "Jinja2                        2.8    \r\n",
      "jsonschema                    2.6.0  \r\n",
      "jupyter                       1.0.0  \r\n",
      "jupyter-client                5.2.3  \r\n",
      "jupyter-console               6.0.0  \r\n",
      "jupyter-core                  4.4.0  \r\n",
      "jupyterlab                    0.35.4 \r\n",
      "jupyterlab-server             0.2.0  \r\n",
      "kiwisolver                    1.0.1  \r\n",
      "language-selector             0.1    \r\n",
      "louis                         2.6.4  \r\n",
      "lxml                          3.5.0  \r\n",
      "Mako                          1.0.3  \r\n",
      "MarkupSafe                    0.23   \r\n",
      "matplotlib                    3.0.2  \r\n",
      "mistune                       0.8.4  \r\n",
      "nbconvert                     5.4.0  \r\n",
      "nbformat                      4.4.0  \r\n",
      "notebook                      5.7.2  \r\n",
      "numpy                         1.15.4 \r\n",
      "oauthlib                      1.0.3  \r\n",
      "onboard                       1.2.0  \r\n",
      "padme                         1.1.1  \r\n",
      "pandas                        0.23.4 \r\n",
      "pandocfilters                 1.4.2  \r\n",
      "parso                         0.3.1  \r\n",
      "pexpect                       4.0.1  \r\n",
      "pickleshare                   0.7.5  \r\n",
      "Pillow                        3.1.2  \r\n",
      "pip                           18.1   \r\n",
      "plainbox                      0.25   \r\n",
      "prometheus-client             0.4.2  \r\n",
      "prompt-toolkit                2.0.7  \r\n",
      "ptyprocess                    0.5    \r\n",
      "pyasn1                        0.1.9  \r\n",
      "pycups                        1.9.73 \r\n",
      "pycurl                        7.43.0 \r\n",
      "Pygments                      2.2.0  \r\n",
      "pygobject                     3.20.0 \r\n",
      "PyJWT                         1.3.0  \r\n",
      "pyparsing                     2.0.3  \r\n",
      "python-apt                    1.1.0b1\r\n",
      "python-dateutil               2.7.5  \r\n",
      "python-debian                 0.1.27 \r\n",
      "python-systemd                231    \r\n",
      "pytz                          2018.7 \r\n",
      "pyxdg                         0.25   \r\n",
      "pyzmq                         17.1.2 \r\n",
      "qtconsole                     4.4.3  \r\n",
      "reportlab                     3.3.0  \r\n",
      "requests                      2.9.1  \r\n",
      "scandir                       1.9.0  \r\n",
      "scipy                         1.1.0  \r\n",
      "screen-resolution-extra       0.0.0  \r\n",
      "Send2Trash                    1.5.0  \r\n",
      "sessioninstaller              0.0.0  \r\n",
      "setuptools                    40.6.2 \r\n",
      "six                           1.10.0 \r\n",
      "ssh-import-id                 5.5    \r\n",
      "system-service                0.3    \r\n",
      "terminado                     0.8.1  \r\n",
      "testpath                      0.4.2  \r\n",
      "tornado                       5.1.1  \r\n",
      "traitlets                     4.3.2  \r\n",
      "ubuntu-drivers-common         0.0.0  \r\n",
      "ufw                           0.35   \r\n",
      "unattended-upgrades           0.1    \r\n",
      "unity-scope-calculator        0.1    \r\n",
      "unity-scope-chromiumbookmarks 0.1    \r\n",
      "unity-scope-colourlovers      0.1    \r\n",
      "unity-scope-devhelp           0.1    \r\n",
      "unity-scope-firefoxbookmarks  0.1    \r\n",
      "unity-scope-gdrive            0.7    \r\n",
      "unity-scope-manpages          0.1    \r\n",
      "unity-scope-openclipart       0.1    \r\n",
      "unity-scope-texdoc            0.1    \r\n",
      "unity-scope-tomboy            0.1    \r\n",
      "unity-scope-virtualbox        0.1    \r\n",
      "unity-scope-yelp              0.1    \r\n",
      "unity-scope-zotero            0.1    \r\n",
      "urllib3                       1.13.1 \r\n",
      "usb-creator                   0.3.0  \r\n",
      "virtualenv                    16.1.0 \r\n",
      "wcwidth                       0.1.7  \r\n",
      "webencodings                  0.5.1  \r\n",
      "wheel                         0.32.3 \r\n",
      "widgetsnbextension            3.4.2  \r\n",
      "xdiagnose                     3.8.4  \r\n",
      "xkit                          0.0.0  \r\n",
      "XlsxWriter                    0.7.3  \r\n"
     ]
    }
   ],
   "source": [
    "! pip list "
   ]
  },
  {
   "cell_type": "code",
   "execution_count": 16,
   "metadata": {
    "scrolled": false
   },
   "outputs": [],
   "source": [
    "# ! pip install pandas scipy matplotlib"
   ]
  },
  {
   "cell_type": "code",
   "execution_count": 5,
   "metadata": {},
   "outputs": [
    {
     "name": "stdout",
     "output_type": "stream",
     "text": [
      "hello world\n"
     ]
    }
   ],
   "source": [
    "print ('hello world')"
   ]
  },
  {
   "cell_type": "markdown",
   "metadata": {},
   "source": [
    "## Get `raw` link from `gist-url`"
   ]
  },
  {
   "cell_type": "code",
   "execution_count": 49,
   "metadata": {},
   "outputs": [],
   "source": [
    "import requests\n",
    "from bs4 import BeautifulSoup\n",
    "import urllib.parse as urlparse"
   ]
  },
  {
   "cell_type": "code",
   "execution_count": 52,
   "metadata": {},
   "outputs": [],
   "source": [
    "\n",
    "# url = 'https://gist.github.com/towshif/9aec83abd7e5a67fbcc48b9ea445dc17'\n",
    "url = 'https://gist.github.com/towshif/bba124a507d1f7513118977c7dd591ae'\n",
    "\n",
    "# url = 'https://web.archive.org/web/20121007172955/https://www.nga.gov/collection/anZ1.htm'\n",
    "\n",
    "# Collect and parse first page\n",
    "page = requests.get(url)\n",
    "# page = requests.get('http://interactivepython.org/runestone/static/pythonds/index.html')\n",
    "\n",
    "soup = BeautifulSoup(page.text, 'html.parser')\n",
    "\n",
    "# Pull all text from the BodyText div\n",
    "list_of_links = soup.find(class_='BodyText')\n",
    "\n",
    "# Pull text from all instances of <a> tag within BodyText div\n",
    "all_list_of_links = soup.find_all('a')\n",
    "\n",
    "# artist_name_list_items"
   ]
  },
  {
   "cell_type": "code",
   "execution_count": 53,
   "metadata": {},
   "outputs": [
    {
     "name": "stdout",
     "output_type": "stream",
     "text": [
      "https://gist.github.com/towshif/bba124a507d1f7513118977c7dd591ae/raw/6a90a46b378469d7122c2e0556f6f27bf1a15ac4/bash-aliases.sh\n"
     ]
    }
   ],
   "source": [
    "for mylinks in all_list_of_links:\n",
    "    links = mylinks.get('href') #.contents[0]  #print (links)\n",
    "    try: \n",
    "        if \"raw\" in links:   \n",
    "            print(urlparse.urljoin(url, links)) # joins at last '/' in the base (1st arg).\n",
    "    except:\n",
    "        pass"
   ]
  },
  {
   "cell_type": "code",
   "execution_count": null,
   "metadata": {},
   "outputs": [],
   "source": []
  }
 ],
 "metadata": {
  "kernelspec": {
   "display_name": "venvPy3",
   "language": "python",
   "name": "venvpy3"
  },
  "language_info": {
   "codemirror_mode": {
    "name": "ipython",
    "version": 3
   },
   "file_extension": ".py",
   "mimetype": "text/x-python",
   "name": "python",
   "nbconvert_exporter": "python",
   "pygments_lexer": "ipython3",
   "version": "3.5.2"
  }
 },
 "nbformat": 4,
 "nbformat_minor": 2
}
