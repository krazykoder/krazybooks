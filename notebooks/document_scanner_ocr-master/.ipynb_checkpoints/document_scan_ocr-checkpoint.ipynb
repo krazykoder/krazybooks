{
 "cells": [
  {
   "cell_type": "markdown",
   "metadata": {},
   "source": [
    "# Extracting texts from Images using Python Image Recognition utilities "
   ]
  },
  {
   "cell_type": "code",
   "execution_count": 290,
   "metadata": {},
   "outputs": [],
   "source": [
    "%matplotlib inline \n",
    "\n",
    "import matplotlib.pyplot as plt"
   ]
  },
  {
   "cell_type": "code",
   "execution_count": 291,
   "metadata": {},
   "outputs": [],
   "source": [
    "# ! pip install pytesseract\n",
    "# ! pip install pillow"
   ]
  },
  {
   "cell_type": "code",
   "execution_count": 292,
   "metadata": {},
   "outputs": [],
   "source": [
    "# import nltk\n",
    "# nltk.download('stopwords')"
   ]
  },
  {
   "cell_type": "code",
   "execution_count": 293,
   "metadata": {
    "ExecuteTime": {
     "end_time": "2017-08-05T20:22:32.141764Z",
     "start_time": "2017-08-05T20:22:32.129343Z"
    },
    "collapsed": true
   },
   "outputs": [],
   "source": [
    "from PIL import Image\n",
    "import pytesseract"
   ]
  },
  {
   "cell_type": "code",
   "execution_count": 294,
   "metadata": {
    "ExecuteTime": {
     "end_time": "2017-08-05T20:22:37.729583Z",
     "start_time": "2017-08-05T20:22:33.599029Z"
    },
    "scrolled": true
   },
   "outputs": [
    {
     "name": "stdout",
     "output_type": "stream",
     "text": [
      "D—IIIBIIB P-uhlic P-ower Disma!\n",
      "\n",
      "For bill inquiries call the Omaha Ofﬁce\n",
      "(402) 538-4131. See back fo\n"
     ]
    }
   ],
   "source": [
    "feb_elec_text = pytesseract.image_to_string(Image.open('images/feb_elec.jpg'))\n",
    "print(feb_elec_text[:100]) # print(feb_elec_text) # For full detail"
   ]
  },
  {
   "cell_type": "markdown",
   "metadata": {},
   "source": [
    "## Attempt 1 - Common words"
   ]
  },
  {
   "cell_type": "code",
   "execution_count": 295,
   "metadata": {
    "ExecuteTime": {
     "end_time": "2017-08-05T20:22:45.682971Z",
     "start_time": "2017-08-05T20:22:45.677950Z"
    }
   },
   "outputs": [
    {
     "name": "stdout",
     "output_type": "stream",
     "text": [
      "['d', 'iiibiib', 'p', 'uhlic', 'p', 'ower', 'disma', 'for', 'bill', 'inquiries', 'call', 'the', 'omaha', 'see', 'back', 'for', 'toll', 'free', 'number', 'billing', 'information', 'for', 'service', 'address', 'account', 'number', 'page', 'of', 'due', 'date', 'totat', 'amount', 'due', 'customer', 'name', 'haffner', 'robert', 'm', 'statement', 'date', 'february', 'rate', 'billing', 'period', 'meter', 'meter', 'reading', 'usa', 'e', 'from']\n"
     ]
    }
   ],
   "source": [
    "import re\n",
    "feb_elec_text_list = re.findall(r'\\b[a-z]+\\b', feb_elec_text.lower())\n",
    "print(feb_elec_text_list[:50])"
   ]
  },
  {
   "cell_type": "code",
   "execution_count": 296,
   "metadata": {
    "ExecuteTime": {
     "end_time": "2017-08-05T20:22:50.884767Z",
     "start_time": "2017-08-05T20:22:50.077047Z"
    }
   },
   "outputs": [
    {
     "name": "stdout",
     "output_type": "stream",
     "text": [
      "['iiibiib', 'p', 'uhlic', 'p', 'ower', 'disma', 'bill', 'inquiries', 'call', 'omaha']\n"
     ]
    }
   ],
   "source": [
    "from nltk.corpus import stopwords\n",
    "stop_words = set(stopwords.words('english'))\n",
    "\n",
    "words  = [i for i in feb_elec_text_list if i not in stop_words]\n",
    "print(words[:10])"
   ]
  },
  {
   "cell_type": "code",
   "execution_count": 297,
   "metadata": {
    "ExecuteTime": {
     "end_time": "2017-08-05T20:24:32.846694Z",
     "start_time": "2017-08-05T20:24:32.841769Z"
    }
   },
   "outputs": [
    {
     "name": "stdout",
     "output_type": "stream",
     "text": [
      "[('due', 4), ('kwh', 4), ('number', 3)]\n"
     ]
    }
   ],
   "source": [
    "from collections import Counter\n",
    "\n",
    "word_count = Counter(words)\n",
    "print(word_count.most_common(3))"
   ]
  },
  {
   "cell_type": "code",
   "execution_count": 298,
   "metadata": {
    "ExecuteTime": {
     "end_time": "2017-08-05T21:18:03.051599Z",
     "start_time": "2017-08-05T21:18:03.041750Z"
    }
   },
   "outputs": [
    {
     "name": "stdout",
     "output_type": "stream",
     "text": [
      "2019_1_2_due_kwh_number.jpg\n"
     ]
    }
   ],
   "source": [
    "words_for_name = '_'.join([w[0] for w in word_count.most_common(3)])\n",
    "\n",
    "from datetime import datetime as dt\n",
    "def get_datestamp():\n",
    "    tdy = dt.today()\n",
    "    return '{}_{}_{}'.format(tdy.year, tdy.month, tdy.day)\n",
    "\n",
    "new_file_name = '{}_{}.jpg'.format(get_datestamp(), words_for_name)\n",
    "print (new_file_name)"
   ]
  },
  {
   "cell_type": "markdown",
   "metadata": {},
   "source": [
    "## Attempt 2 - String comparison"
   ]
  },
  {
   "cell_type": "code",
   "execution_count": 299,
   "metadata": {
    "ExecuteTime": {
     "end_time": "2017-08-05T20:25:21.796828Z",
     "start_time": "2017-08-05T20:25:17.167623Z"
    }
   },
   "outputs": [
    {
     "name": "stdout",
     "output_type": "stream",
     "text": [
      "amaha Publir Power Dismal\n",
      "\n",
      "For bill inquiries call the Omaha Office\n",
      "(402) 536-4131. See back for tol\n"
     ]
    }
   ],
   "source": [
    "mar_elec_text = pytesseract.image_to_string(Image.open('images/mar_elec.jpg'))\n",
    "print(mar_elec_text[:100])"
   ]
  },
  {
   "cell_type": "code",
   "execution_count": 300,
   "metadata": {},
   "outputs": [
    {
     "name": "stdout",
     "output_type": "stream",
     "text": [
      "Requirement already satisfied: fuzzywuzzy in /home/towshif/venv/lib/python3.5/site-packages (0.17.0)\n"
     ]
    }
   ],
   "source": [
    "! pip install fuzzywuzzy"
   ]
  },
  {
   "cell_type": "code",
   "execution_count": 301,
   "metadata": {
    "ExecuteTime": {
     "end_time": "2017-08-05T20:25:26.211278Z",
     "start_time": "2017-08-05T20:25:26.199696Z"
    }
   },
   "outputs": [
    {
     "name": "stdout",
     "output_type": "stream",
     "text": [
      "64\n"
     ]
    }
   ],
   "source": [
    "from fuzzywuzzy import fuzz\n",
    "from fuzzywuzzy import process\n",
    "\n",
    "print(fuzz.ratio(feb_elec_text, mar_elec_text))"
   ]
  },
  {
   "cell_type": "code",
   "execution_count": 302,
   "metadata": {
    "ExecuteTime": {
     "end_time": "2017-08-05T20:25:36.400347Z",
     "start_time": "2017-08-05T20:25:29.294726Z"
    }
   },
   "outputs": [
    {
     "name": "stdout",
     "output_type": "stream",
     "text": [
      "/\n",
      "\n",
      "Share the warmth and make a\n",
      "difference.\n",
      "\n",
      "Join us at the 10m annual Heat the\n",
      "Streets Run and Walk \n"
     ]
    }
   ],
   "source": [
    "feb_gas_water_text = pytesseract.image_to_string(Image.open('images/feb_gas_water.jpg'))\n",
    "print(feb_gas_water_text[:100])"
   ]
  },
  {
   "cell_type": "code",
   "execution_count": 303,
   "metadata": {
    "ExecuteTime": {
     "end_time": "2017-08-05T21:31:32.058233Z",
     "start_time": "2017-08-05T21:31:32.048643Z"
    }
   },
   "outputs": [
    {
     "name": "stdout",
     "output_type": "stream",
     "text": [
      "2\n"
     ]
    }
   ],
   "source": [
    "print(fuzz.ratio(feb_elec_text, feb_gas_water_text))"
   ]
  },
  {
   "cell_type": "code",
   "execution_count": 304,
   "metadata": {
    "ExecuteTime": {
     "end_time": "2017-08-05T20:25:57.718867Z",
     "start_time": "2017-08-05T20:25:55.918568Z"
    }
   },
   "outputs": [
    {
     "name": "stdout",
     "output_type": "stream",
     "text": [
      "water_gas_bill\n"
     ]
    }
   ],
   "source": [
    "choices = {'electric_bill' : feb_elec_text, 'water_gas_bill' : feb_gas_water_text}\n",
    "\n",
    "best_match = process.extractOne(mar_elec_text, choices=choices, score_cutoff=75)\n",
    "if best_match:\n",
    "    print(best_match[2])"
   ]
  },
  {
   "cell_type": "code",
   "execution_count": 305,
   "metadata": {
    "ExecuteTime": {
     "end_time": "2017-08-05T20:26:08.307229Z",
     "start_time": "2017-08-05T20:26:08.302633Z"
    }
   },
   "outputs": [
    {
     "name": "stdout",
     "output_type": "stream",
     "text": [
      "2019_1_2_water_gas_bill.jpg\n"
     ]
    }
   ],
   "source": [
    "new_file_name = '{}_{}.jpg'.format(get_datestamp(), best_match[2])\n",
    "print (new_file_name)"
   ]
  },
  {
   "cell_type": "markdown",
   "metadata": {},
   "source": [
    "# The images \n",
    "List of all the image we will use for the demo \n",
    "\n",
    "![image#1](images/1.jpeg) ![image#2](images/2.jpeg) ![image#3](images/3.jpeg) ![image#4](images/4.jpeg) ![image#5](images/5.jpeg) "
   ]
  },
  {
   "cell_type": "markdown",
   "metadata": {},
   "source": [
    "## With pyorc "
   ]
  },
  {
   "cell_type": "code",
   "execution_count": 306,
   "metadata": {},
   "outputs": [
    {
     "name": "stdout",
     "output_type": "stream",
     "text": [
      "Text = 4.63\n"
     ]
    },
    {
     "data": {
      "image/png": "[encoded data removed]",
      "text/plain": [
       "<Figure size 432x288 with 1 Axes>"
      ]
     },
     "metadata": {
      "needs_background": "light"
     },
     "output_type": "display_data"
    }
   ],
   "source": [
    "import pyocr\n",
    "import pyocr.builders\n",
    "from PIL import Image, ImageEnhance\n",
    "\n",
    "# image = Image.open('images/2.jpeg')\n",
    "image = Image.open('images/4.jpeg')\n",
    "# image = (Image.open('images/4.jpeg'), Image.open('images/1.jpeg')) \n",
    "\n",
    "plt.imshow(image)\n",
    "text = tools.image_to_string(image, builder=pyocr.builders.DigitBuilder())\n",
    "print (\"Text =\", text)"
   ]
  },
  {
   "cell_type": "code",
   "execution_count": 307,
   "metadata": {},
   "outputs": [
    {
     "name": "stdout",
     "output_type": "stream",
     "text": [
      "Text = 4.03\n"
     ]
    },
    {
     "data": {
      "image/png": "[encoded data removed]",
      "text/plain": [
       "<Figure size 432x288 with 1 Axes>"
      ]
     },
     "metadata": {
      "needs_background": "light"
     },
     "output_type": "display_data"
    }
   ],
   "source": [
    "imagebw = image.convert('L')\n",
    "plt.imshow(imagebw)\n",
    "\n",
    "tools = pyocr.get_available_tools()[0]\n",
    "text = tools.image_to_string(imagebw, builder=pyocr.builders.DigitBuilder())\n",
    "\n",
    "print (\"Text =\", text)"
   ]
  },
  {
   "cell_type": "markdown",
   "metadata": {},
   "source": [
    "### Image processing before feed"
   ]
  },
  {
   "cell_type": "code",
   "execution_count": 308,
   "metadata": {},
   "outputs": [
    {
     "data": {
      "image/png": "[encoded data removed]",
      "text/plain": [
       "<PIL.JpegImagePlugin.JpegImageFile image mode=RGB size=77x41 at 0x7F732FCB7EF0>"
      ]
     },
     "execution_count": 308,
     "metadata": {},
     "output_type": "execute_result"
    }
   ],
   "source": [
    "enhanced_im = image\n",
    "image"
   ]
  },
  {
   "cell_type": "code",
   "execution_count": 309,
   "metadata": {},
   "outputs": [
    {
     "data": {
      "image/png": "[encoded data removed]",
      "text/plain": [
       "<PIL.Image.Image image mode=RGB size=77x41 at 0x7F7356DC0F60>"
      ]
     },
     "execution_count": 309,
     "metadata": {},
     "output_type": "execute_result"
    }
   ],
   "source": [
    "enhancer = ImageEnhance.Contrast(enhanced_im)\n",
    "enhanced_im = enhancer.enhance(4.0)\n",
    "enhanced_im"
   ]
  },
  {
   "cell_type": "code",
   "execution_count": 310,
   "metadata": {},
   "outputs": [
    {
     "data": {
      "image/png": "[encoded data removed]",
      "text/plain": [
       "<PIL.Image.Image image mode=RGB size=77x41 at 0x7F7356D0F3C8>"
      ]
     },
     "execution_count": 310,
     "metadata": {},
     "output_type": "execute_result"
    }
   ],
   "source": [
    "enhancer = ImageEnhance.Brightness(enhanced_im)\n",
    "enhanced_im = enhancer.enhance(1.5)\n",
    "enhanced_im"
   ]
  },
  {
   "cell_type": "code",
   "execution_count": 311,
   "metadata": {},
   "outputs": [
    {
     "data": {
      "image/png": "[encoded data removed]",
      "text/plain": [
       "<PIL.Image.Image image mode=RGB size=77x41 at 0x7F7356CFFC18>"
      ]
     },
     "execution_count": 311,
     "metadata": {},
     "output_type": "execute_result"
    }
   ],
   "source": [
    "enhancer = ImageEnhance.Sharpness(image)\n",
    "enhanced_im = enhancer.enhance(3.0)\n",
    "# plt.imshow(enhanced_im)\n",
    "enhanced_im"
   ]
  },
  {
   "cell_type": "code",
   "execution_count": 312,
   "metadata": {},
   "outputs": [
    {
     "data": {
      "image/png": "[encoded data removed]",
      "text/plain": [
       "<PIL.Image.Image image mode=L size=77x41 at 0x7F7356CFB8D0>"
      ]
     },
     "execution_count": 312,
     "metadata": {},
     "output_type": "execute_result"
    }
   ],
   "source": [
    "image.convert('L')"
   ]
  },
  {
   "cell_type": "code",
   "execution_count": 313,
   "metadata": {},
   "outputs": [
    {
     "data": {
      "text/plain": [
       "<matplotlib.image.AxesImage at 0x7f7356cb2400>"
      ]
     },
     "execution_count": 313,
     "metadata": {},
     "output_type": "execute_result"
    },
    {
     "data": {
      "image/png": "[encoded data removed]",
      "text/plain": [
       "<Figure size 432x288 with 1 Axes>"
      ]
     },
     "metadata": {
      "needs_background": "light"
     },
     "output_type": "display_data"
    }
   ],
   "source": [
    "plt.imshow(image.convert('L'))"
   ]
  },
  {
   "cell_type": "code",
   "execution_count": 314,
   "metadata": {},
   "outputs": [],
   "source": [
    "image = enhanced_im"
   ]
  },
  {
   "cell_type": "code",
   "execution_count": 315,
   "metadata": {},
   "outputs": [
    {
     "data": {
      "image/png": "[encoded data removed]",
      "text/plain": [
       "<PIL.Image.Image image mode=RGB size=77x41 at 0x7F7356CFFC18>"
      ]
     },
     "execution_count": 315,
     "metadata": {},
     "output_type": "execute_result"
    }
   ],
   "source": [
    "image"
   ]
  },
  {
   "cell_type": "markdown",
   "metadata": {},
   "source": [
    "## With pytesseract "
   ]
  },
  {
   "cell_type": "code",
   "execution_count": 316,
   "metadata": {},
   "outputs": [
    {
     "name": "stdout",
     "output_type": "stream",
     "text": [
      "0.00\n"
     ]
    }
   ],
   "source": [
    "from PIL import Image\n",
    "import pytesseract\n",
    "image = Image.open('images/1.jpeg')\n",
    "image = image.convert('L')\n",
    "text = pytesseract.image_to_string(image)\n",
    "print (text)"
   ]
  },
  {
   "cell_type": "code",
   "execution_count": 317,
   "metadata": {},
   "outputs": [
    {
     "data": {
      "image/png": "[encoded data removed]",
      "text/plain": [
       "<PIL.Image.Image image mode=L size=71x38 at 0x7F732FC598D0>"
      ]
     },
     "execution_count": 317,
     "metadata": {},
     "output_type": "execute_result"
    }
   ],
   "source": [
    "image"
   ]
  },
  {
   "cell_type": "markdown",
   "metadata": {},
   "source": [
    "## With textract (trivial)"
   ]
  },
  {
   "cell_type": "code",
   "execution_count": 318,
   "metadata": {},
   "outputs": [],
   "source": [
    "# ! pip install textract   # errors occurred"
   ]
  },
  {
   "cell_type": "code",
   "execution_count": 319,
   "metadata": {},
   "outputs": [
    {
     "ename": "ImportError",
     "evalue": "No module named 'textract'",
     "output_type": "error",
     "traceback": [
      "\u001b[0;31m---------------------------------------------------------------------------\u001b[0m",
      "\u001b[0;31mImportError\u001b[0m                               Traceback (most recent call last)",
      "\u001b[0;32m<ipython-input-319-41ba663854ed>\u001b[0m in \u001b[0;36m<module>\u001b[0;34m\u001b[0m\n\u001b[0;32m----> 1\u001b[0;31m \u001b[0;32mimport\u001b[0m \u001b[0mtextract\u001b[0m\u001b[0;34m\u001b[0m\u001b[0m\n\u001b[0m\u001b[1;32m      2\u001b[0m text = textract.process('images/1.jpeg', encoding='ascii', \n\u001b[1;32m      3\u001b[0m                         method='tesseract')\n",
      "\u001b[0;31mImportError\u001b[0m: No module named 'textract'"
     ]
    }
   ],
   "source": [
    "import textract\n",
    "text = textract.process('images/1.jpeg', encoding='ascii', \n",
    "                        method='tesseract')"
   ]
  },
  {
   "cell_type": "code",
   "execution_count": null,
   "metadata": {},
   "outputs": [],
   "source": []
  },
  {
   "cell_type": "code",
   "execution_count": null,
   "metadata": {},
   "outputs": [],
   "source": []
  },
  {
   "cell_type": "code",
   "execution_count": null,
   "metadata": {},
   "outputs": [],
   "source": []
  },
  {
   "cell_type": "code",
   "execution_count": null,
   "metadata": {},
   "outputs": [],
   "source": []
  }
 ],
 "metadata": {
  "kernelspec": {
   "display_name": "venv",
   "language": "python",
   "name": "venv"
  },
  "language_info": {
   "codemirror_mode": {
    "name": "ipython",
    "version": 3
   },
   "file_extension": ".py",
   "mimetype": "text/x-python",
   "name": "python",
   "nbconvert_exporter": "python",
   "pygments_lexer": "ipython3",
   "version": "3.5.2"
  }
 },
 "nbformat": 4,
 "nbformat_minor": 2
}
